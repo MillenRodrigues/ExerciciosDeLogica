{
  "nbformat": 4,
  "nbformat_minor": 0,
  "metadata": {
    "colab": {
      "provenance": [],
      "include_colab_link": true
    },
    "kernelspec": {
      "name": "python3",
      "display_name": "Python 3"
    },
    "language_info": {
      "name": "python"
    }
  },
  "cells": [
    {
      "cell_type": "markdown",
      "metadata": {
        "id": "view-in-github",
        "colab_type": "text"
      },
      "source": [
        "<a href=\"https://colab.research.google.com/github/MillenRodrigues/ExerciciosDeLogica/blob/main/Exercicios_Basicos_de_L%C3%B3gica.ipynb\" target=\"_parent\"><img src=\"https://colab.research.google.com/assets/colab-badge.svg\" alt=\"Open In Colab\"/></a>"
      ]
    },
    {
      "cell_type": "markdown",
      "source": [
        "# Exercícios de Lógica Básica\n",
        "\n",
        "Lembre-se:\n",
        "\n",
        "sintax do if\n",
        "\n",
        "```\n",
        "if a==1:     # se a for igual a 1\n",
        "  print('A é 1')\n",
        "else:        # se for diferente\n",
        "  print('A não é 1')\n",
        "```\n",
        "sintax do for:\n",
        "\n",
        "\n",
        "```\n",
        "for i in range(10): # para cada elemento i em [0,1,2,3,4,5,6,7,8,9]\n",
        "  print(i)          # imprime de 0 a 9\n",
        "```\n",
        "\n",
        "\n",
        "\n",
        "\n"
      ],
      "metadata": {
        "id": "a0YvK_X7y7u1"
      }
    },
    {
      "cell_type": "markdown",
      "source": [
        "## Exercicio 1\n",
        "cria uma função que recebe 3 numeros e retorna eles na ordem crescente\n"
      ],
      "metadata": {
        "id": "Ix8e26gPz3TM"
      }
    },
    {
      "cell_type": "code",
      "execution_count": 5,
      "metadata": {
        "id": "wGWmdlpXyncd"
      },
      "outputs": [],
      "source": [
        "def ordena(a,b,c):\n",
        "  #coloque sua lógica aqui\n",
        "  if a < b: \n",
        "    if c< a:\n",
        "      return c,a,b \n",
        "    else:\n",
        "      \n",
        "      if b< c:\n",
        "        return a,b,c\n",
        "      else:\n",
        "        return a,c,b\n",
        "\n",
        "\n",
        "  else: \n",
        "    \n",
        "    if c< b:\n",
        "      return c,b,a\n",
        "    else:\n",
        "      if c < a:\n",
        "        return b,c,a\n",
        "      else:\n",
        "        return b,a,c\n",
        "\n"
      ]
    },
    {
      "cell_type": "code",
      "source": [
        "# testa se a resposta está correta\n",
        "\n",
        "a, b, c = ordena(1,2,3)\n",
        "assert( a < b < c)\n",
        "a, b, c = ordena(1,2,5)\n",
        "assert( a < b < c)\n",
        "a, b, c = ordena(5,4,3)\n",
        "assert( a < b < c)\n",
        "assert(c==5)\n",
        "assert(b==4)\n",
        "assert(a==3)\n",
        "a, b, c = ordena(2,1,3)\n",
        "assert( a < b < c)\n"
      ],
      "metadata": {
        "id": "Ay4f5Xor0Syd"
      },
      "execution_count": 7,
      "outputs": []
    },
    {
      "cell_type": "markdown",
      "source": [
        "## Exercício 2\n",
        "\n",
        "Crie uma função que soma apenas os números pares de uma lista"
      ],
      "metadata": {
        "id": "G4OGtC9b1IOQ"
      }
    },
    {
      "cell_type": "code",
      "source": [
        "def soma_pares(lista):\n",
        "  #coloque sua lógica aqui\n",
        "\n",
        "  return 0 #altere para o retorno correto"
      ],
      "metadata": {
        "id": "iHerQk7U1BUq"
      },
      "execution_count": null,
      "outputs": []
    },
    {
      "cell_type": "code",
      "source": [
        "# testa se a resposta está correta\n",
        "\n",
        "r = soma_pares([])\n",
        "assert(r==0)\n",
        "r = soma_pares([1,2,3,4,5,6,7,8])\n",
        "assert(r==20)\n",
        "r = soma_pares([2,2,4,5,6])\n",
        "assert(r==14)\n"
      ],
      "metadata": {
        "id": "EQnLZVLA1to_"
      },
      "execution_count": null,
      "outputs": []
    },
    {
      "cell_type": "markdown",
      "source": [
        "## Exercício 3\n",
        "\n",
        "Crie uma função que diz se o número é primo.\n",
        "\n",
        "Números primos são diviziveis apenas por 1 e por ele mesmo, ex: 7, 5, 3.\n",
        "\n",
        "Dica: o operador % retorna o resto da divisão, sempre que um número não for divisível esse retorno será maior do que zero, ex:\n",
        "\n",
        "\n",
        "```\n",
        "5 % 3 \n",
        "```\n",
        "o retorno é 2, porque 5/3 é 1, mas sobra 2.\n",
        "\n",
        "sendo assim, você precisa testar se o número é dívisivel por todos os números entre 1 e ele mesmo para saber se é primo.\n",
        "\n"
      ],
      "metadata": {
        "id": "uTK_j_rf6v3P"
      }
    },
    {
      "cell_type": "code",
      "source": [
        "def numero_primo(numero):\n",
        "  #coloque sua lógica aqui\n",
        "\n",
        "  return False #altere para o retorno correto"
      ],
      "metadata": {
        "id": "GRRC7UZK-AAe"
      },
      "execution_count": null,
      "outputs": []
    },
    {
      "cell_type": "code",
      "source": [
        "# testa se a resposta está correta\n",
        "\n",
        "assert(~numero_primo(2))\n",
        "assert(~numero_primo(10))\n",
        "assert(~numero_primo(15))\n",
        "assert(~numero_primo(22))\n",
        "assert(~numero_primo(21))\n",
        "assert(numero_primo(7))\n",
        "assert(numero_primo(13))\n",
        "assert(numero_primo(3))\n",
        "assert(numero_primo(7))\n",
        "assert(numero_primo(47))\n",
        "assert(numero_primo(53))\n"
      ],
      "metadata": {
        "id": "7gXUNM3z-wYT"
      },
      "execution_count": null,
      "outputs": []
    }
  ]
}